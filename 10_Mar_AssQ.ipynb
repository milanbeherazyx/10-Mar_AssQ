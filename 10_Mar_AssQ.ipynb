{
 "cells": [
  {
   "attachments": {},
   "cell_type": "markdown",
   "metadata": {},
   "source": [
    "# Q1: What is Estimation Statistics? Explain point estimate and interval estimate."
   ]
  },
  {
   "attachments": {},
   "cell_type": "markdown",
   "metadata": {},
   "source": [
    ">Estimation statistics is a branch of statistics that deals with estimating the unknown population parameters based on sample statistics.\n",
    "\n",
    ">Point estimate refers to a single value that is used to estimate the value of an unknown population parameter. For example, if we are interested in estimating the mean weight of all elephants in a national park, we could take a sample of elephants and use their average weight as a point estimate for the population mean weight. Point estimates are often denoted by a symbol with a hat, such as $\\hat{\\theta}$, where $\\theta$ is the population parameter being estimated.\n",
    "\n",
    ">Interval estimate, on the other hand, is a range of values that is used to estimate the value of an unknown population parameter. The range is typically computed from the sample data and is centered around the point estimate. The interval is constructed such that we can be confident, to a certain degree, that the true population parameter falls within the range. The level of confidence is expressed as a percentage, and is called the confidence level. For example, we may construct a 95% confidence interval for the mean weight of all elephants in a national park, which means that we are 95% confident that the true population mean weight falls within the interval. Confidence intervals are denoted by the symbol $[\\hat{\\theta_1},\\hat{\\theta_2}]$, where $\\hat{\\theta_1}$ and $\\hat{\\theta_2}$ are the lower and upper limits of the interval, respectively.\n",
    "\n",
    ">Interval estimates are typically preferred over point estimates because they provide more information about the range of plausible values for the population parameter. However, interval estimates require a larger sample size and may be more computationally intensive to compute."
   ]
  },
  {
   "attachments": {},
   "cell_type": "markdown",
   "metadata": {},
   "source": [
    "# Q2. Write a Python function to estimate the population mean using a sample mean and standard deviation."
   ]
  },
  {
   "cell_type": "code",
   "execution_count": 1,
   "metadata": {},
   "outputs": [
    {
     "name": "stdout",
     "output_type": "stream",
     "text": [
      "Estimated population mean: 10.5\n"
     ]
    }
   ],
   "source": [
    "def estimate_population_mean(sample_mean, sample_std, sample_size):\n",
    "    \"\"\"\n",
    "    Estimate the population mean using a sample mean and standard deviation.\n",
    "    \n",
    "    Args:\n",
    "    sample_mean (float): the sample mean\n",
    "    sample_std (float): the sample standard deviation\n",
    "    sample_size (int): the sample size\n",
    "    \n",
    "    Returns:\n",
    "    float: the estimated population mean\n",
    "    \"\"\"\n",
    "    import math\n",
    "    \n",
    "    # Compute the standard error\n",
    "    std_error = sample_std / math.sqrt(sample_size)\n",
    "    \n",
    "    # Compute the margin of error for a 95% confidence interval\n",
    "    margin_of_error = 1.96 * std_error\n",
    "    \n",
    "    # Compute the lower and upper limits of the confidence interval\n",
    "    lower_limit = sample_mean - margin_of_error\n",
    "    upper_limit = sample_mean + margin_of_error\n",
    "    \n",
    "    # Return the estimated population mean\n",
    "    return (lower_limit + upper_limit) / 2\n",
    "\n",
    "\n",
    "\n",
    "\n",
    "sample_mean = 10.5\n",
    "sample_std = 2.3\n",
    "sample_size = 100\n",
    "\n",
    "estimated_population_mean = estimate_population_mean(sample_mean, sample_std, sample_size)\n",
    "\n",
    "print(\"Estimated population mean:\", estimated_population_mean)\n"
   ]
  },
  {
   "cell_type": "markdown",
   "metadata": {},
   "source": [
    "# Q3: What is Hypothesis testing? Why is it used? State the importance of Hypothesis testing."
   ]
  },
  {
   "attachments": {},
   "cell_type": "markdown",
   "metadata": {},
   "source": [
    ">Hypothesis testing is a statistical technique used to evaluate the validity of a claim or assertion about a population parameter based on sample data. The goal of hypothesis testing is to determine whether the sample data provides enough evidence to reject or fail to reject a null hypothesis, which is a statement of no effect or no difference between groups.\n",
    "\n",
    ">Hypothesis testing is used in many fields, including science, medicine, engineering, and business, to make informed decisions based on data. It is particularly important in research and experimentation, where researchers need to determine whether an intervention or treatment has a significant effect on a population. By conducting hypothesis tests, researchers can determine whether the results of their study are statistically significant and generalizable to the larger population.\n",
    "\n",
    ">The importance of hypothesis testing lies in its ability to provide a systematic and objective approach to evaluating claims about a population parameter. It allows researchers to make data-driven decisions based on the evidence available, rather than relying solely on intuition or subjective judgments. Hypothesis testing also provides a framework for assessing the strength of evidence and the uncertainty associated with statistical estimates.\n",
    "\n",
    ">Overall, hypothesis testing is an essential tool for making informed decisions based on data, and it is critical to ensuring that scientific research and other applications are conducted in a rigorous and reliable manner."
   ]
  },
  {
   "attachments": {},
   "cell_type": "markdown",
   "metadata": {},
   "source": [
    "# Q4. Create a hypothesis that states whether the average weight of male college students is greater than the average weight of female college students."
   ]
  },
  {
   "attachments": {},
   "cell_type": "markdown",
   "metadata": {},
   "source": [
    ">Null hypothesis: The average weight of male college students is equal to or less than the average weight of female college students.\n",
    "\n",
    ">Alternative hypothesis: The average weight of male college students is greater than the average weight of female college students.\n",
    "\n",
    ">Symbolically,\n",
    "\n",
    ">H0: μ_male ≤ μ_female\n",
    ">Ha: μ_male > μ_female\n",
    "\n",
    ">where H0 is the null hypothesis, Ha is the alternative hypothesis, μ_male is the population mean weight of male college students, and μ_female is the population mean weight of female college students.\n",
    "\n",
    ">To test this hypothesis, we would need to collect a sample of weights from both male and female college students and compare their means using a statistical test, such as a t-test or z-test. The results of the test would help us determine whether there is enough evidence to reject the null hypothesis and support the alternative hypothesis that the average weight of male college students is greater than the average weight of female college students."
   ]
  },
  {
   "attachments": {},
   "cell_type": "markdown",
   "metadata": {},
   "source": [
    "# Q5. Write a Python script to conduct a hypothesis test on the difference between two population means, given a sample from each population."
   ]
  },
  {
   "attachments": {},
   "cell_type": "markdown",
   "metadata": {},
   "source": [
    ">Here's an example Python script that conducts a two-sample t-test to test the hypothesis that the mean of population 1 is equal to the mean of population 2."
   ]
  },
  {
   "cell_type": "code",
   "execution_count": 2,
   "metadata": {},
   "outputs": [
    {
     "name": "stdout",
     "output_type": "stream",
     "text": [
      "Reject the null hypothesis. The means are significantly different.\n",
      "Sample 1 mean: 9.70\n",
      "Sample 1 standard deviation: 1.48\n",
      "Sample 2 mean: 12.00\n",
      "Sample 2 standard deviation: 2.11\n",
      "Test statistic: -6.30\n",
      "P-value: 0.0000\n"
     ]
    }
   ],
   "source": [
    "import numpy as np\n",
    "from scipy.stats import ttest_ind\n",
    "\n",
    "# Generate sample data\n",
    "sample1 = np.random.normal(loc=10, scale=2, size=50)  # Sample from population 1\n",
    "sample2 = np.random.normal(loc=12, scale=2, size=50)  # Sample from population 2\n",
    "\n",
    "# Calculate the sample means and standard deviations\n",
    "mean1 = np.mean(sample1)\n",
    "mean2 = np.mean(sample2)\n",
    "std1 = np.std(sample1, ddof=1)\n",
    "std2 = np.std(sample2, ddof=1)\n",
    "\n",
    "# Calculate the test statistic and p-value using a two-sample t-test\n",
    "test_stat, p_value = ttest_ind(sample1, sample2, equal_var=False)\n",
    "\n",
    "# Set the significance level and print the results\n",
    "alpha = 0.05\n",
    "if p_value < alpha:\n",
    "    print(\"Reject the null hypothesis. The means are significantly different.\")\n",
    "else:\n",
    "    print(\"Fail to reject the null hypothesis. The means are not significantly different.\")\n",
    "\n",
    "# Print the sample means, standard deviations, test statistic, and p-value\n",
    "print(\"Sample 1 mean: {:.2f}\".format(mean1))\n",
    "print(\"Sample 1 standard deviation: {:.2f}\".format(std1))\n",
    "print(\"Sample 2 mean: {:.2f}\".format(mean2))\n",
    "print(\"Sample 2 standard deviation: {:.2f}\".format(std2))\n",
    "print(\"Test statistic: {:.2f}\".format(test_stat))\n",
    "print(\"P-value: {:.4f}\".format(p_value))\n"
   ]
  },
  {
   "attachments": {},
   "cell_type": "markdown",
   "metadata": {},
   "source": [
    ">In this script, we first generate sample data from two populations, each with a normal distribution with a mean of 10 and 12, respectively, and a standard deviation of 2. We then calculate the sample means and standard deviations, and use the ttest_ind function from the scipy.stats module to calculate the test statistic and p-value using a two-sample t-test with unequal variances.\n",
    "\n",
    ">Finally, we set the significance level to 0.05 and print the results. If the p-value is less than 0.05, we reject the null hypothesis and conclude that the means are significantly different. Otherwise, we fail to reject the null hypothesis and conclude that the means are not significantly different."
   ]
  },
  {
   "attachments": {},
   "cell_type": "markdown",
   "metadata": {},
   "source": [
    "# Q6: What is a null and alternative hypothesis? Give some examples."
   ]
  },
  {
   "attachments": {},
   "cell_type": "markdown",
   "metadata": {},
   "source": [
    ">In statistics, the null hypothesis (H0) is a statement or assumption that there is no significant difference between the two groups or variables being compared. The alternative hypothesis (Ha) is the statement or assumption that there is a significant difference between the two groups or variables being compared.\n",
    "\n",
    ">Here are some examples of null and alternative hypotheses:\n",
    "\n",
    ">Example for One-Sample T-test:\n",
    ">Null Hypothesis (H0): The mean weight of a certain population of apples is 100 grams.\n",
    ">Alternative Hypothesis (Ha): The mean weight of a certain population of apples is not 100 grams.\n",
    "\n",
    ">Example for Two-Sample T-test:\n",
    ">Null Hypothesis (H0): The mean height of men is the same as the mean height of women.\n",
    ">Alternative Hypothesis (Ha): The mean height of men is greater than the mean height of women.\n",
    "\n",
    ">Example for Chi-Square Test:\n",
    ">Null Hypothesis (H0): The number of people who prefer coffee and tea is equal.\n",
    ">Alternative Hypothesis (Ha): The number of people who prefer coffee and tea is not equal.\n",
    "\n",
    ">Example for ANOVA:\n",
    ">Null Hypothesis (H0): There is no difference in the mean income of people living in different regions of the country.\n",
    ">Alternative Hypothesis (Ha): There is a difference in the mean income of people living in different regions of the country.\n",
    "\n",
    ">In each of these examples, the null hypothesis represents the status quo or the absence of a significant difference, while the alternative hypothesis represents the research hypothesis or the presence of a significant difference. The choice of null and alternative hypotheses depends on the research question and the type of statistical test being used.\n",
    "\n",
    "\n",
    "\n",
    "\n",
    "\n"
   ]
  },
  {
   "attachments": {},
   "cell_type": "markdown",
   "metadata": {},
   "source": [
    "# Q7: Write down the steps involved in hypothesis testing."
   ]
  },
  {
   "attachments": {},
   "cell_type": "markdown",
   "metadata": {},
   "source": [
    ">The steps involved in hypothesis testing are as follows:\n",
    "\n",
    ">State the null hypothesis (H0) and alternative hypothesis (Ha): The null hypothesis is the default position that there is no significant difference between the two groups or variables being compared, while the alternative hypothesis is the research hypothesis that there is a significant difference.\n",
    "\n",
    ">Determine the level of significance (α): The level of significance is the probability of rejecting the null hypothesis when it is true. It is usually set at 0.05 or 0.01, but it can be adjusted depending on the research question and the type of statistical test being used.\n",
    "\n",
    ">Select the appropriate statistical test: The choice of statistical test depends on the research question, the type of data being analyzed, and the number of groups being compared. Common statistical tests include t-tests, ANOVA, Chi-square tests, and regression analysis.\n",
    "\n",
    ">Collect the data: Collect a sample of data that is representative of the population being studied. Ensure that the sample size is large enough and that the data is collected using appropriate methods.\n",
    "\n",
    ">Calculate the test statistic: Calculate the test statistic using the sample data and the appropriate statistical test. The test statistic measures the difference between the observed data and the null hypothesis.\n",
    "\n",
    ">Determine the critical value: Determine the critical value or the p-value based on the level of significance and the degrees of freedom associated with the test statistic.\n",
    "\n",
    ">Compare the test statistic to the critical value: Compare the test statistic to the critical value or the p-value. If the test statistic is greater than the critical value or the p-value is less than the level of significance, reject the null hypothesis. Otherwise, fail to reject the null hypothesis.\n",
    "\n",
    ">Interpret the results: Interpret the results in the context of the research question and the null and alternative hypotheses. If the null hypothesis is rejected, conclude that there is evidence to support the alternative hypothesis. If the null hypothesis is not rejected, conclude that there is insufficient evidence to support the alternative hypothesis."
   ]
  },
  {
   "attachments": {},
   "cell_type": "markdown",
   "metadata": {},
   "source": [
    "# Q8. Define p-value and explain its significance in hypothesis testing."
   ]
  },
  {
   "attachments": {},
   "cell_type": "markdown",
   "metadata": {},
   "source": [
    ">The p-value is the probability of observing a test statistic as extreme or more extreme than the one calculated from the sample data, assuming that the null hypothesis is true. In other words, it measures the strength of evidence against the null hypothesis.\n",
    "\n",
    ">In hypothesis testing, the p-value is used to determine the statistical significance of the test results. If the p-value is less than or equal to the chosen level of significance (typically 0.05), the null hypothesis is rejected, and the alternative hypothesis is accepted. If the p-value is greater than the level of significance, the null hypothesis is not rejected, and there is insufficient evidence to support the alternative hypothesis.\n",
    "\n",
    ">The smaller the p-value, the stronger the evidence against the null hypothesis. For example, a p-value of 0.01 means that there is only a 1% chance of observing such an extreme test statistic under the null hypothesis. This provides strong evidence against the null hypothesis.\n",
    "\n",
    ">It is important to note that the p-value does not provide information about the magnitude or practical significance of the difference between the groups being compared. It only provides information about the statistical significance of the difference. Therefore, it is important to interpret the p-value in the context of the research question and the null and alternative hypotheses."
   ]
  },
  {
   "attachments": {},
   "cell_type": "markdown",
   "metadata": {},
   "source": [
    "# Q9. Generate a Student's t-distribution plot using Python's matplotlib library, with the degrees of freedom parameter set to 10."
   ]
  },
  {
   "cell_type": "code",
   "execution_count": 3,
   "metadata": {},
   "outputs": [
    {
     "data": {
      "image/png": "[encoded data removed]",
      "text/plain": [
       "<Figure size 640x480 with 1 Axes>"
      ]
     },
     "metadata": {},
     "output_type": "display_data"
    }
   ],
   "source": [
    "import numpy as np\n",
    "import matplotlib.pyplot as plt\n",
    "from scipy.stats import t\n",
    "\n",
    "df = 10  # Degrees of freedom\n",
    "\n",
    "x = np.linspace(t.ppf(0.001, df), t.ppf(0.999, df), 100)  # Generate x-values for the plot\n",
    "pdf = t.pdf(x, df)  # Compute the probability density function (PDF) values for the x-values\n",
    "\n",
    "plt.plot(x, pdf, 'r-', lw=2, label='t distribution')  # Plot the PDF curve\n",
    "plt.legend(loc='best', frameon=False)\n",
    "plt.xlabel('t-value')\n",
    "plt.ylabel('Probability density')\n",
    "plt.title(\"Student's t-distribution (df=10)\")\n",
    "plt.show()\n"
   ]
  },
  {
   "attachments": {},
   "cell_type": "markdown",
   "metadata": {},
   "source": [
    "# Q1O. Write a Python program to calculate the two-sample t-test for independent samples, given two random samples of equal size and a null hypothesis that the population means are equal."
   ]
  },
  {
   "cell_type": "code",
   "execution_count": 2,
   "metadata": {},
   "outputs": [
    {
     "name": "stdout",
     "output_type": "stream",
     "text": [
      "T-statistic:  -7.1014038559312045\n",
      "P-value:  2.1668800907671968e-11\n"
     ]
    }
   ],
   "source": [
    "import numpy as np\n",
    "from scipy.stats import ttest_ind\n",
    "\n",
    "# Generate two random samples of equal size from normal distributions with different means\n",
    "sample1 = np.random.normal(10, 2, 100)\n",
    "sample2 = np.random.normal(12, 2, 100)\n",
    "\n",
    "# Calculate the t-statistic and p-value using the ttest_ind function\n",
    "t_stat, p_value = ttest_ind(sample1, sample2)\n",
    "\n",
    "# Print the results\n",
    "print(\"T-statistic: \", t_stat)\n",
    "print(\"P-value: \", p_value)\n"
   ]
  },
  {
   "cell_type": "markdown",
   "metadata": {},
   "source": [
    "# Q11: What is Student's t distribution? When to use the t-Distribution."
   ]
  },
  {
   "attachments": {},
   "cell_type": "markdown",
   "metadata": {},
   "source": [
    ">Student's t-distribution, also known as the t-distribution, is a probability distribution that arises when estimating the mean of a normally distributed population in situations where the sample size is small or the population standard deviation is unknown. The t-distribution is similar in shape to the standard normal distribution, but has fatter tails, meaning it has more probability in the tails than the normal distribution.\n",
    "\n",
    ">The t-distribution is used in situations where the sample size is small, typically less than 30, or when the population standard deviation is unknown. When the sample size is large, the t-distribution converges to the standard normal distribution, so it is not necessary to use the t-distribution in those cases.\n",
    "\n",
    ">The t-distribution is commonly used in hypothesis testing, especially when the sample size is small or the population standard deviation is unknown. The t-distribution is also used in confidence interval estimation for the mean of a normally distributed population when the sample size is small or the population standard deviation is unknown.\n",
    "\n",
    ">Overall, the t-distribution is an important probability distribution in statistics and is widely used in various statistical analyses."
   ]
  },
  {
   "attachments": {},
   "cell_type": "markdown",
   "metadata": {},
   "source": [
    "# Q12: What is t-statistic? State the formula for t-statistic."
   ]
  },
  {
   "attachments": {},
   "cell_type": "markdown",
   "metadata": {},
   "source": [
    ">In statistics, the t-statistic (also called the Student's t-statistic) is a measure that quantifies the difference between an estimated population parameter and its hypothesized value. Specifically, it is used to test hypotheses about population means when the sample size is small (less than 30) or the population standard deviation is unknown.\n",
    "\n",
    ">The formula for the t-statistic for testing the null hypothesis that the population mean equals a hypothesized value μ0 is:\n",
    "\n",
    ">t = (x̄ - μ0) / (s / sqrt(n))\n",
    "\n",
    ">where:\n",
    ">x̄ is the sample mean\n",
    ">s is the sample standard deviation\n",
    ">n is the sample size\n",
    "\n",
    ">The t-statistic follows a t-distribution with (n-1) degrees of freedom. The t-distribution has a bell-shaped curve that is similar to the standard normal distribution but with wider tails. The t-distribution is used instead of the standard normal distribution when the sample size is small or when the population standard deviation is unknown.\n",
    "\n",
    ">The t-statistic is used in hypothesis testing to determine whether the difference between the sample mean and the hypothesized population mean is statistically significant or just due to chance. If the calculated t-value is greater than the critical t-value from the t-distribution table, then we reject the null hypothesis and conclude that the sample mean is significantly different from the hypothesized population mean.\n"
   ]
  },
  {
   "attachments": {},
   "cell_type": "markdown",
   "metadata": {},
   "source": [
    "# Q13. A coffee shop owner wants to estimate the average daily revenue for their shop. They take a random sample of 50 days and find the sample mean revenue to be $500 with a standard deviation of $50. Estimate the population mean revenue with a 95% confidence interval."
   ]
  },
  {
   "attachments": {},
   "cell_type": "markdown",
   "metadata": {},
   "source": [
    "To estimate the population mean revenue with a 95% confidence interval, we can use the following formula:\n",
    "\n",
    "Confidence interval = sample mean ± margin of error\n",
    "\n",
    "where the margin of error is given by:\n",
    "\n",
    "margin of error = t-value * standard error\n",
    "\n",
    "The t-value depends on the sample size and the desired level of confidence. For a 95% confidence interval with 49 degrees of freedom (n-1), the t-value can be obtained from a t-distribution table or using a calculator and is approximately 2.009.\n",
    "\n",
    "The standard error is given by:\n",
    "\n",
    "standard error = sample standard deviation / sqrt(sample size)\n",
    "\n",
    "Plugging in the values given in the problem, we get:\n",
    "\n",
    "sample mean = $500\n",
    "sample standard deviation = $50\n",
    "sample size = 50\n",
    "t-value (for a 95% confidence interval with 49 degrees of freedom) = 2.009\n",
    "\n",
    "standard error = $50 / sqrt(50) = $7.07\n",
    "\n",
    "Therefore, the 95% confidence interval for the population mean revenue is:\n",
    "\n",
    "$500 ± 2.009 * $7.07\n",
    "\n",
    "= $500 ± $14.20\n",
    "\n",
    "= ($485.80, $514.20)\n",
    "\n",
    "We can be 95% confident that the true population mean revenue lies within this interval."
   ]
  },
  {
   "cell_type": "code",
   "execution_count": 3,
   "metadata": {},
   "outputs": [
    {
     "name": "stdout",
     "output_type": "stream",
     "text": [
      "The 95% confidence interval for the population mean revenue is: ($485.79, $514.21)\n"
     ]
    }
   ],
   "source": [
    "import scipy.stats as stats\n",
    "import math\n",
    "\n",
    "# Sample statistics\n",
    "sample_mean = 500\n",
    "sample_std = 50\n",
    "sample_size = 50\n",
    "\n",
    "# Degrees of freedom\n",
    "df = sample_size - 1\n",
    "\n",
    "# t-value for a 95% confidence interval with df degrees of freedom\n",
    "t = stats.t.ppf(0.975, df)\n",
    "\n",
    "# Margin of error\n",
    "margin_of_error = t * sample_std / math.sqrt(sample_size)\n",
    "\n",
    "# Confidence interval\n",
    "lower = sample_mean - margin_of_error\n",
    "upper = sample_mean + margin_of_error\n",
    "\n",
    "print(\"The 95% confidence interval for the population mean revenue is: (${:.2f}, ${:.2f})\".format(lower, upper))\n"
   ]
  },
  {
   "attachments": {},
   "cell_type": "markdown",
   "metadata": {},
   "source": [
    "# Q14. A researcher hypothesizes that a new drug will decrease blood pressure by 10 mmHg. They conduct a clinical trial with 100 patients and find that the sample mean decrease in blood pressure is 8 mmHg with a standard deviation of 3 mmHg. Test the hypothesis with a significance level of 0.05."
   ]
  },
  {
   "attachments": {},
   "cell_type": "markdown",
   "metadata": {},
   "source": [
    "> To test the hypothesis with a significance level of 0.05, we can use a one-sample t-test with the null hypothesis being that the population mean decrease in blood pressure is equal to 10 mmHg, and the alternative hypothesis being that the population mean decrease in blood pressure is less than 10 mmHg.\n",
    "\n",
    "> Here's how we can perform the one-sample t-test in Python:"
   ]
  },
  {
   "cell_type": "code",
   "execution_count": 4,
   "metadata": {},
   "outputs": [
    {
     "name": "stdout",
     "output_type": "stream",
     "text": [
      "t-statistic: -6.67\n",
      "p-value: 0.0000\n",
      "Reject the null hypothesis\n"
     ]
    }
   ],
   "source": [
    "import scipy.stats as stats\n",
    "import math\n",
    "\n",
    "# Sample statistics\n",
    "sample_mean = 8\n",
    "sample_std = 3\n",
    "sample_size = 100\n",
    "\n",
    "# Null hypothesis\n",
    "null_hypothesis_mean = 10\n",
    "\n",
    "# Degrees of freedom\n",
    "df = sample_size - 1\n",
    "\n",
    "# t-value for a significance level of 0.05 with df degrees of freedom\n",
    "t = stats.t.ppf(0.05, df)\n",
    "\n",
    "# Standard error\n",
    "std_error = sample_std / math.sqrt(sample_size)\n",
    "\n",
    "# t-statistic\n",
    "t_stat = (sample_mean - null_hypothesis_mean) / std_error\n",
    "\n",
    "# p-value\n",
    "p_value = stats.t.sf(abs(t_stat), df)\n",
    "\n",
    "print(\"t-statistic: {:.2f}\".format(t_stat))\n",
    "print(\"p-value: {:.4f}\".format(p_value))\n",
    "\n",
    "if t_stat < t:\n",
    "    print(\"Reject the null hypothesis\")\n",
    "else:\n",
    "    print(\"Fail to reject the null hypothesis\")\n"
   ]
  },
  {
   "attachments": {},
   "cell_type": "markdown",
   "metadata": {},
   "source": [
    "# Q15. An electronics company produces a certain type of product with a mean weight of 5 pounds and a standard deviation of 0.5 pounds. A random sample of 25 products is taken, and the sample mean weight is found to be 4.8 pounds. Test the hypothesis that the true mean weight of the products is less than 5 pounds with a significance level of 0.01."
   ]
  },
  {
   "cell_type": "code",
   "execution_count": 5,
   "metadata": {},
   "outputs": [
    {
     "name": "stdout",
     "output_type": "stream",
     "text": [
      "Test statistic: -2.0000000000000018\n",
      "Critical value: -2.4921594731575762\n",
      "p-value: 0.02846992496829572\n",
      "Fail to reject null hypothesis\n"
     ]
    }
   ],
   "source": [
    "import math\n",
    "from scipy.stats import t\n",
    "\n",
    "# Given data\n",
    "pop_mean = 5\n",
    "pop_std = 0.5\n",
    "sample_size = 25\n",
    "sample_mean = 4.8\n",
    "alpha = 0.01\n",
    "\n",
    "# Calculate the test statistic\n",
    "se = pop_std / math.sqrt(sample_size)\n",
    "t_statistic = (sample_mean - pop_mean) / se\n",
    "\n",
    "# Find the critical value\n",
    "df = sample_size - 1\n",
    "t_critical = t.ppf(alpha, df)\n",
    "\n",
    "# Calculate the p-value\n",
    "p_value = t.cdf(t_statistic, df)\n",
    "\n",
    "# Print the results\n",
    "print(\"Test statistic:\", t_statistic)\n",
    "print(\"Critical value:\", t_critical)\n",
    "print(\"p-value:\", p_value)\n",
    "\n",
    "if t_statistic < t_critical:\n",
    "    print(\"Reject null hypothesis\")\n",
    "else:\n",
    "    print(\"Fail to reject null hypothesis\")\n"
   ]
  },
  {
   "attachments": {},
   "cell_type": "markdown",
   "metadata": {},
   "source": [
    "# Q16. Two groups of students are given different study materials to prepare for a test. The first group (nl = 30) has a mean score of 80 with a standard deviation of IO, and the second group (n2 = 40) has a mean score of 75 with a standard deviation of 8. Test the hypothesis that the population means for the two groups are equal with a significance level of 0.01."
   ]
  },
  {
   "cell_type": "code",
   "execution_count": 6,
   "metadata": {},
   "outputs": [
    {
     "name": "stdout",
     "output_type": "stream",
     "text": [
      "Reject null hypothesis\n"
     ]
    }
   ],
   "source": [
    "import numpy as np\n",
    "from scipy.stats import t\n",
    "\n",
    "# Sample 1\n",
    "n1 = 30\n",
    "x1 = 80\n",
    "s1 = 10\n",
    "\n",
    "# Sample 2\n",
    "n2 = 40\n",
    "x2 = 75\n",
    "s2 = 8\n",
    "\n",
    "# Calculate the pooled standard deviation\n",
    "s_pooled = np.sqrt(((n1-1)*(s1**2) + (n2-1)*(s2**2)) / (n1+n2-2))\n",
    "\n",
    "# Calculate the t-statistic\n",
    "t_stat = (x1 - x2) / (s_pooled * np.sqrt(1/n1 + 1/n2))\n",
    "\n",
    "# Calculate the critical value from the t-distribution\n",
    "alpha = 0.01\n",
    "df = n1 + n2 - 2\n",
    "t_crit = t.ppf(alpha/2, df)\n",
    "\n",
    "# Compare the t-statistic and the critical value\n",
    "if t_stat < -t_crit or t_stat > t_crit:\n",
    "    print(\"Reject null hypothesis\")\n",
    "else:\n",
    "    print(\"Fail to reject null hypothesis\")\n"
   ]
  },
  {
   "attachments": {},
   "cell_type": "markdown",
   "metadata": {},
   "source": [
    "# Q17. A marketing company wants to estimate the average number of ads watched by viewers during a TV program. They take a random sample of 50 viewers and find that the sample mean is 4 with a standard deviation of 1.5. Estimate the population mean with a 99% confidence interval."
   ]
  },
  {
   "attachments": {},
   "cell_type": "markdown",
   "metadata": {},
   "source": [
    "To estimate the population mean with a 99% confidence interval, we can use the following formula:\n",
    "\n",
    "CI = x̄ ± z* (σ/√n)\n",
    "\n",
    "Where,\n",
    "CI = Confidence Interval\n",
    "x̄ = Sample Mean\n",
    "z* = Z-score at 99% confidence level (2.576)\n",
    "σ = Population Standard Deviation\n",
    "n = Sample Size\n",
    "\n",
    "Substituting the given values, we get:\n",
    "\n",
    "CI = 4 ± 2.576 * (1.5/√50)\n",
    "\n",
    "CI = 4 ± 0.594\n",
    "\n",
    "CI = (3.406, 4.594)\n",
    "\n",
    "Therefore, we can estimate with 99% confidence that the population mean number of ads watched by viewers during a TV program is between 3.406 and 4.594."
   ]
  },
  {
   "cell_type": "code",
   "execution_count": 7,
   "metadata": {},
   "outputs": [
    {
     "name": "stdout",
     "output_type": "stream",
     "text": [
      "Sample mean: 4\n",
      "Sample standard deviation: 1.5\n",
      "Sample size: 50\n",
      "Confidence level: 0.99\n",
      "Degrees of freedom: 49\n",
      "Critical value: 2.67995197363155\n",
      "Standard error of the mean: 0.21213203435596426\n",
      "Margin of error: 0.5685036641427422\n",
      "Confidence interval: (3.4314963358572577, 4.568503664142742)\n"
     ]
    }
   ],
   "source": [
    "import scipy.stats as stats\n",
    "\n",
    "sample_mean = 4\n",
    "sample_std = 1.5\n",
    "sample_size = 50\n",
    "confidence_level = 0.99\n",
    "\n",
    "# Calculate the standard error of the mean\n",
    "std_error = sample_std / (sample_size ** 0.5)\n",
    "\n",
    "# Calculate the critical value based on the confidence level and degrees of freedom\n",
    "degrees_of_freedom = sample_size - 1\n",
    "critical_value = stats.t.ppf((1 + confidence_level) / 2, degrees_of_freedom)\n",
    "\n",
    "# Calculate the margin of error\n",
    "margin_of_error = critical_value * std_error\n",
    "\n",
    "# Calculate the confidence interval\n",
    "lower_limit = sample_mean - margin_of_error\n",
    "upper_limit = sample_mean + margin_of_error\n",
    "\n",
    "# Print the results\n",
    "print(\"Sample mean:\", sample_mean)\n",
    "print(\"Sample standard deviation:\", sample_std)\n",
    "print(\"Sample size:\", sample_size)\n",
    "print(\"Confidence level:\", confidence_level)\n",
    "print(\"Degrees of freedom:\", degrees_of_freedom)\n",
    "print(\"Critical value:\", critical_value)\n",
    "print(\"Standard error of the mean:\", std_error)\n",
    "print(\"Margin of error:\", margin_of_error)\n",
    "print(\"Confidence interval:\", (lower_limit, upper_limit))\n"
   ]
  },
  {
   "attachments": {},
   "cell_type": "markdown",
   "metadata": {},
   "source": [
    "Therefore, we can be 99% confident that the true population mean falls within the range of 3.430 to 4.570."
   ]
  }
 ],
 "metadata": {
  "kernelspec": {
   "display_name": "Python 3",
   "language": "python",
   "name": "python3"
  },
  "language_info": {
   "codemirror_mode": {
    "name": "ipython",
    "version": 3
   },
   "file_extension": ".py",
   "mimetype": "text/x-python",
   "name": "python",
   "nbconvert_exporter": "python",
   "pygments_lexer": "ipython3",
   "version": "3.11.2"
  },
  "orig_nbformat": 4
 },
 "nbformat": 4,
 "nbformat_minor": 2
}
